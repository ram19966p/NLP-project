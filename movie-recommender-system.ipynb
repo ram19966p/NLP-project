{
 "cells": [
  {
   "cell_type": "code",
   "execution_count": 10,
   "id": "0b038340",
   "metadata": {},
   "outputs": [],
   "source": [
    "#! pip3 install numpy\n",
    "#! pip3 install pandas"
   ]
  },
  {
   "cell_type": "code",
   "execution_count": 18,
   "id": "d8fe0109",
   "metadata": {
    "_cell_guid": "b1076dfc-b9ad-4769-8c92-a6c4dae69d19",
    "_uuid": "8f2839f25d086af736a60e9eeb907d3b93b6e0e5",
    "execution": {
     "iopub.execute_input": "2023-10-18T17:04:05.332887Z",
     "iopub.status.busy": "2023-10-18T17:04:05.332248Z",
     "iopub.status.idle": "2023-10-18T17:04:05.692771Z",
     "shell.execute_reply": "2023-10-18T17:04:05.691106Z"
    },
    "papermill": {
     "duration": 0.376514,
     "end_time": "2023-10-18T17:04:05.695714",
     "exception": false,
     "start_time": "2023-10-18T17:04:05.319200",
     "status": "completed"
    },
    "tags": []
   },
   "outputs": [
    {
     "ename": "ModuleNotFoundError",
     "evalue": "No module named 'numpy'",
     "output_type": "error",
     "traceback": [
      "\u001b[1;31m---------------------------------------------------------------------------\u001b[0m",
      "\u001b[1;31mModuleNotFoundError\u001b[0m                       Traceback (most recent call last)",
      "Cell \u001b[1;32mIn[18], line 1\u001b[0m\n\u001b[1;32m----> 1\u001b[0m \u001b[38;5;28;01mimport\u001b[39;00m \u001b[38;5;21;01mnumpy\u001b[39;00m \u001b[38;5;28;01mas\u001b[39;00m \u001b[38;5;21;01mnp\u001b[39;00m \u001b[38;5;66;03m# linear algebra\u001b[39;00m\n\u001b[0;32m      2\u001b[0m \u001b[38;5;28;01mimport\u001b[39;00m \u001b[38;5;21;01mpandas\u001b[39;00m \u001b[38;5;28;01mas\u001b[39;00m \u001b[38;5;21;01mpd\u001b[39;00m \n",
      "\u001b[1;31mModuleNotFoundError\u001b[0m: No module named 'numpy'"
     ]
    }
   ],
   "source": [
    "import numpy as np # linear algebra\n",
    "import pandas as pd "
   ]
  },
  {
   "cell_type": "code",
   "execution_count": 19,
   "id": "fef1bdde",
   "metadata": {
    "execution": {
     "iopub.execute_input": "2023-10-18T17:04:05.722766Z",
     "iopub.status.busy": "2023-10-18T17:04:05.722318Z",
     "iopub.status.idle": "2023-10-18T17:04:06.723518Z",
     "shell.execute_reply": "2023-10-18T17:04:06.722593Z"
    },
    "papermill": {
     "duration": 1.016577,
     "end_time": "2023-10-18T17:04:06.725713",
     "exception": false,
     "start_time": "2023-10-18T17:04:05.709136",
     "status": "completed"
    },
    "tags": []
   },
   "outputs": [
    {
     "ename": "NameError",
     "evalue": "name 'pd' is not defined",
     "output_type": "error",
     "traceback": [
      "\u001b[1;31m---------------------------------------------------------------------------\u001b[0m",
      "\u001b[1;31mNameError\u001b[0m                                 Traceback (most recent call last)",
      "Cell \u001b[1;32mIn[19], line 1\u001b[0m\n\u001b[1;32m----> 1\u001b[0m movies \u001b[38;5;241m=\u001b[39m \u001b[43mpd\u001b[49m\u001b[38;5;241m.\u001b[39mread_csv(\u001b[38;5;124m'\u001b[39m\u001b[38;5;124mmovies.csv\u001b[39m\u001b[38;5;124m'\u001b[39m)\n\u001b[0;32m      2\u001b[0m credits \u001b[38;5;241m=\u001b[39m pd\u001b[38;5;241m.\u001b[39mread_csv(\u001b[38;5;124m'\u001b[39m\u001b[38;5;124mcredits.csv\u001b[39m\u001b[38;5;124m'\u001b[39m)\n",
      "\u001b[1;31mNameError\u001b[0m: name 'pd' is not defined"
     ]
    }
   ],
   "source": [
    "movies = pd.read_csv('movies.csv')\n",
    "credits = pd.read_csv('credits.csv')"
   ]
  },
  {
   "cell_type": "code",
   "execution_count": null,
   "id": "8dece7cc",
   "metadata": {
    "execution": {
     "iopub.execute_input": "2023-10-18T17:04:06.750598Z",
     "iopub.status.busy": "2023-10-18T17:04:06.749389Z",
     "iopub.status.idle": "2023-10-18T17:04:06.778786Z",
     "shell.execute_reply": "2023-10-18T17:04:06.777721Z"
    },
    "papermill": {
     "duration": 0.043655,
     "end_time": "2023-10-18T17:04:06.780717",
     "exception": false,
     "start_time": "2023-10-18T17:04:06.737062",
     "status": "completed"
    },
    "tags": []
   },
   "outputs": [],
   "source": [
    "movies.info()"
   ]
  },
  {
   "cell_type": "code",
   "execution_count": null,
   "id": "7677883e",
   "metadata": {},
   "outputs": [],
   "source": [
    "credits.info()"
   ]
  },
  {
   "cell_type": "code",
   "execution_count": null,
   "id": "26d473ad",
   "metadata": {
    "execution": {
     "iopub.execute_input": "2023-10-18T17:04:06.804421Z",
     "iopub.status.busy": "2023-10-18T17:04:06.804102Z",
     "iopub.status.idle": "2023-10-18T17:04:06.814502Z",
     "shell.execute_reply": "2023-10-18T17:04:06.813510Z"
    },
    "papermill": {
     "duration": 0.02459,
     "end_time": "2023-10-18T17:04:06.816451",
     "exception": false,
     "start_time": "2023-10-18T17:04:06.791861",
     "status": "completed"
    },
    "tags": []
   },
   "outputs": [],
   "source": [
    "credits.head()"
   ]
  },
  {
   "cell_type": "code",
   "execution_count": null,
   "id": "09033caa",
   "metadata": {
    "execution": {
     "iopub.execute_input": "2023-10-18T17:04:06.842751Z",
     "iopub.status.busy": "2023-10-18T17:04:06.841882Z",
     "iopub.status.idle": "2023-10-18T17:04:06.873614Z",
     "shell.execute_reply": "2023-10-18T17:04:06.872715Z"
    },
    "papermill": {
     "duration": 0.04791,
     "end_time": "2023-10-18T17:04:06.876021",
     "exception": false,
     "start_time": "2023-10-18T17:04:06.828111",
     "status": "completed"
    },
    "tags": []
   },
   "outputs": [],
   "source": [
    "movies = movies.merge(credits,on='title')"
   ]
  },
  {
   "cell_type": "code",
   "execution_count": null,
   "id": "ba320ed2",
   "metadata": {
    "execution": {
     "iopub.execute_input": "2023-10-18T17:04:06.901114Z",
     "iopub.status.busy": "2023-10-18T17:04:06.900816Z",
     "iopub.status.idle": "2023-10-18T17:04:06.918513Z",
     "shell.execute_reply": "2023-10-18T17:04:06.917330Z"
    },
    "papermill": {
     "duration": 0.03271,
     "end_time": "2023-10-18T17:04:06.920582",
     "exception": false,
     "start_time": "2023-10-18T17:04:06.887872",
     "status": "completed"
    },
    "tags": []
   },
   "outputs": [],
   "source": [
    "movies.head(1)"
   ]
  },
  {
   "cell_type": "code",
   "execution_count": null,
   "id": "6968eca1",
   "metadata": {
    "execution": {
     "iopub.execute_input": "2023-10-18T17:04:06.947070Z",
     "iopub.status.busy": "2023-10-18T17:04:06.946311Z",
     "iopub.status.idle": "2023-10-18T17:04:06.956248Z",
     "shell.execute_reply": "2023-10-18T17:04:06.955495Z"
    },
    "papermill": {
     "duration": 0.025449,
     "end_time": "2023-10-18T17:04:06.958221",
     "exception": false,
     "start_time": "2023-10-18T17:04:06.932772",
     "status": "completed"
    },
    "tags": []
   },
   "outputs": [],
   "source": [
    "movies['original_language'].value_counts()"
   ]
  },
  {
   "cell_type": "code",
   "execution_count": null,
   "id": "ea93342a",
   "metadata": {
    "execution": {
     "iopub.execute_input": "2023-10-18T17:04:06.984446Z",
     "iopub.status.busy": "2023-10-18T17:04:06.984119Z",
     "iopub.status.idle": "2023-10-18T17:04:07.006800Z",
     "shell.execute_reply": "2023-10-18T17:04:07.005644Z"
    },
    "papermill": {
     "duration": 0.03912,
     "end_time": "2023-10-18T17:04:07.009696",
     "exception": false,
     "start_time": "2023-10-18T17:04:06.970576",
     "status": "completed"
    },
    "tags": []
   },
   "outputs": [],
   "source": [
    "movies.info()"
   ]
  },
  {
   "cell_type": "code",
   "execution_count": null,
   "id": "dc4ade9a",
   "metadata": {
    "execution": {
     "iopub.execute_input": "2023-10-18T17:04:07.035666Z",
     "iopub.status.busy": "2023-10-18T17:04:07.035317Z",
     "iopub.status.idle": "2023-10-18T17:04:07.039563Z",
     "shell.execute_reply": "2023-10-18T17:04:07.038532Z"
    },
    "papermill": {
     "duration": 0.019363,
     "end_time": "2023-10-18T17:04:07.041360",
     "exception": false,
     "start_time": "2023-10-18T17:04:07.021997",
     "status": "completed"
    },
    "tags": []
   },
   "outputs": [],
   "source": [
    "# columns which we will keep\n",
    "# genres, id, keywords, title, overview, cast, crew"
   ]
  },
  {
   "cell_type": "code",
   "execution_count": null,
   "id": "85a53f3f",
   "metadata": {
    "execution": {
     "iopub.execute_input": "2023-10-18T17:04:07.067525Z",
     "iopub.status.busy": "2023-10-18T17:04:07.066443Z",
     "iopub.status.idle": "2023-10-18T17:04:07.073358Z",
     "shell.execute_reply": "2023-10-18T17:04:07.072502Z"
    },
    "papermill": {
     "duration": 0.022071,
     "end_time": "2023-10-18T17:04:07.075555",
     "exception": false,
     "start_time": "2023-10-18T17:04:07.053484",
     "status": "completed"
    },
    "tags": []
   },
   "outputs": [],
   "source": [
    "movies = movies[['genres','id','keywords','title','overview','cast','crew']]\n",
    "movies.head(1)"
   ]
  },
  {
   "cell_type": "code",
   "execution_count": null,
   "id": "11919745",
   "metadata": {
    "execution": {
     "iopub.execute_input": "2023-10-18T17:04:07.101693Z",
     "iopub.status.busy": "2023-10-18T17:04:07.101365Z",
     "iopub.status.idle": "2023-10-18T17:04:07.112009Z",
     "shell.execute_reply": "2023-10-18T17:04:07.111064Z"
    },
    "papermill": {
     "duration": 0.026114,
     "end_time": "2023-10-18T17:04:07.113947",
     "exception": false,
     "start_time": "2023-10-18T17:04:07.087833",
     "status": "completed"
    },
    "tags": []
   },
   "outputs": [],
   "source": [
    "movies.isnull().sum()"
   ]
  },
  {
   "cell_type": "code",
   "execution_count": null,
   "id": "7a9afa90",
   "metadata": {
    "execution": {
     "iopub.execute_input": "2023-10-18T17:04:07.197294Z",
     "iopub.status.busy": "2023-10-18T17:04:07.196983Z",
     "iopub.status.idle": "2023-10-18T17:04:07.206539Z",
     "shell.execute_reply": "2023-10-18T17:04:07.205669Z"
    },
    "papermill": {
     "duration": 0.024878,
     "end_time": "2023-10-18T17:04:07.208320",
     "exception": false,
     "start_time": "2023-10-18T17:04:07.183442",
     "status": "completed"
    },
    "tags": []
   },
   "outputs": [],
   "source": [
    "movies.dropna(inplace=True)"
   ]
  },
  {
   "cell_type": "code",
   "execution_count": null,
   "id": "4fca1b7e",
   "metadata": {
    "execution": {
     "iopub.execute_input": "2023-10-18T17:04:07.235176Z",
     "iopub.status.busy": "2023-10-18T17:04:07.234216Z",
     "iopub.status.idle": "2023-10-18T17:04:07.245388Z",
     "shell.execute_reply": "2023-10-18T17:04:07.244385Z"
    },
    "papermill": {
     "duration": 0.026445,
     "end_time": "2023-10-18T17:04:07.247265",
     "exception": false,
     "start_time": "2023-10-18T17:04:07.220820",
     "status": "completed"
    },
    "tags": []
   },
   "outputs": [],
   "source": [
    "movies.isnull().sum()"
   ]
  },
  {
   "cell_type": "code",
   "execution_count": null,
   "id": "0c8159a3",
   "metadata": {
    "execution": {
     "iopub.execute_input": "2023-10-18T17:04:07.274107Z",
     "iopub.status.busy": "2023-10-18T17:04:07.273793Z",
     "iopub.status.idle": "2023-10-18T17:04:07.375772Z",
     "shell.execute_reply": "2023-10-18T17:04:07.374877Z"
    },
    "papermill": {
     "duration": 0.118061,
     "end_time": "2023-10-18T17:04:07.378112",
     "exception": false,
     "start_time": "2023-10-18T17:04:07.260051",
     "status": "completed"
    },
    "tags": []
   },
   "outputs": [],
   "source": [
    "movies.duplicated().sum()"
   ]
  },
  {
   "cell_type": "code",
   "execution_count": null,
   "id": "be84a45d",
   "metadata": {},
   "outputs": [],
   "source": [
    "movies.head()"
   ]
  },
  {
   "cell_type": "code",
   "execution_count": null,
   "id": "4a0bbbc9",
   "metadata": {
    "execution": {
     "iopub.execute_input": "2023-10-18T17:04:07.404781Z",
     "iopub.status.busy": "2023-10-18T17:04:07.404422Z",
     "iopub.status.idle": "2023-10-18T17:04:07.411458Z",
     "shell.execute_reply": "2023-10-18T17:04:07.410385Z"
    },
    "papermill": {
     "duration": 0.022796,
     "end_time": "2023-10-18T17:04:07.413640",
     "exception": false,
     "start_time": "2023-10-18T17:04:07.390844",
     "status": "completed"
    },
    "tags": []
   },
   "outputs": [],
   "source": [
    "movies.iloc[0].keywords"
   ]
  },
  {
   "cell_type": "code",
   "execution_count": null,
   "id": "44f7a294",
   "metadata": {
    "execution": {
     "iopub.execute_input": "2023-10-18T17:04:07.441242Z",
     "iopub.status.busy": "2023-10-18T17:04:07.440673Z",
     "iopub.status.idle": "2023-10-18T17:04:07.444722Z",
     "shell.execute_reply": "2023-10-18T17:04:07.444038Z"
    },
    "papermill": {
     "duration": 0.020142,
     "end_time": "2023-10-18T17:04:07.446563",
     "exception": false,
     "start_time": "2023-10-18T17:04:07.426421",
     "status": "completed"
    },
    "tags": []
   },
   "outputs": [],
   "source": [
    "# A module in python to convert a string of list INTO list\n"
   ]
  },
  {
   "cell_type": "code",
   "execution_count": null,
   "id": "2fa8ce59",
   "metadata": {
    "execution": {
     "iopub.execute_input": "2023-10-18T17:04:07.473461Z",
     "iopub.status.busy": "2023-10-18T17:04:07.473109Z",
     "iopub.status.idle": "2023-10-18T17:04:07.476781Z",
     "shell.execute_reply": "2023-10-18T17:04:07.475778Z"
    },
    "papermill": {
     "duration": 0.019511,
     "end_time": "2023-10-18T17:04:07.478697",
     "exception": false,
     "start_time": "2023-10-18T17:04:07.459186",
     "status": "completed"
    },
    "tags": []
   },
   "outputs": [],
   "source": [
    "import ast"
   ]
  },
  {
   "cell_type": "code",
   "execution_count": null,
   "id": "8b9d7588",
   "metadata": {
    "execution": {
     "iopub.execute_input": "2023-10-18T17:04:07.505661Z",
     "iopub.status.busy": "2023-10-18T17:04:07.505275Z",
     "iopub.status.idle": "2023-10-18T17:04:07.510235Z",
     "shell.execute_reply": "2023-10-18T17:04:07.509271Z"
    },
    "papermill": {
     "duration": 0.020742,
     "end_time": "2023-10-18T17:04:07.512276",
     "exception": false,
     "start_time": "2023-10-18T17:04:07.491534",
     "status": "completed"
    },
    "tags": []
   },
   "outputs": [],
   "source": [
    "def convert(obj):\n",
    "    L = []\n",
    "    for i in ast.literal_eval(obj):\n",
    "        L.append(i['name'])\n",
    "    return L\n"
   ]
  },
  {
   "cell_type": "code",
   "execution_count": null,
   "id": "a527b0c3",
   "metadata": {
    "execution": {
     "iopub.execute_input": "2023-10-18T17:04:07.540499Z",
     "iopub.status.busy": "2023-10-18T17:04:07.540114Z",
     "iopub.status.idle": "2023-10-18T17:04:07.692766Z",
     "shell.execute_reply": "2023-10-18T17:04:07.691695Z"
    },
    "papermill": {
     "duration": 0.169107,
     "end_time": "2023-10-18T17:04:07.695059",
     "exception": false,
     "start_time": "2023-10-18T17:04:07.525952",
     "status": "completed"
    },
    "tags": []
   },
   "outputs": [],
   "source": [
    "movies['genres'] = movies['genres'].apply(convert)"
   ]
  },
  {
   "cell_type": "code",
   "execution_count": null,
   "id": "5cf0364a",
   "metadata": {
    "execution": {
     "iopub.execute_input": "2023-10-18T17:04:07.722819Z",
     "iopub.status.busy": "2023-10-18T17:04:07.721914Z",
     "iopub.status.idle": "2023-10-18T17:04:07.728120Z",
     "shell.execute_reply": "2023-10-18T17:04:07.727387Z"
    },
    "papermill": {
     "duration": 0.021779,
     "end_time": "2023-10-18T17:04:07.729837",
     "exception": false,
     "start_time": "2023-10-18T17:04:07.708058",
     "status": "completed"
    },
    "tags": []
   },
   "outputs": [],
   "source": [
    "movies.iloc[0].genres"
   ]
  },
  {
   "cell_type": "code",
   "execution_count": null,
   "id": "ca0d2721",
   "metadata": {
    "execution": {
     "iopub.execute_input": "2023-10-18T17:04:07.757917Z",
     "iopub.status.busy": "2023-10-18T17:04:07.757338Z",
     "iopub.status.idle": "2023-10-18T17:04:08.137248Z",
     "shell.execute_reply": "2023-10-18T17:04:08.136545Z"
    },
    "papermill": {
     "duration": 0.396601,
     "end_time": "2023-10-18T17:04:08.139703",
     "exception": false,
     "start_time": "2023-10-18T17:04:07.743102",
     "status": "completed"
    },
    "tags": []
   },
   "outputs": [],
   "source": [
    "movies['keywords'] = movies['keywords'].apply(convert)"
   ]
  },
  {
   "cell_type": "code",
   "execution_count": null,
   "id": "fa0c0c99",
   "metadata": {
    "execution": {
     "iopub.execute_input": "2023-10-18T17:04:08.168692Z",
     "iopub.status.busy": "2023-10-18T17:04:08.167843Z",
     "iopub.status.idle": "2023-10-18T17:04:08.174559Z",
     "shell.execute_reply": "2023-10-18T17:04:08.173651Z"
    },
    "papermill": {
     "duration": 0.023352,
     "end_time": "2023-10-18T17:04:08.176819",
     "exception": false,
     "start_time": "2023-10-18T17:04:08.153467",
     "status": "completed"
    },
    "tags": []
   },
   "outputs": [],
   "source": [
    "movies['cast'][0]"
   ]
  },
  {
   "cell_type": "code",
   "execution_count": null,
   "id": "21c08caa",
   "metadata": {
    "execution": {
     "iopub.execute_input": "2023-10-18T17:04:08.204427Z",
     "iopub.status.busy": "2023-10-18T17:04:08.204076Z",
     "iopub.status.idle": "2023-10-18T17:04:08.208803Z",
     "shell.execute_reply": "2023-10-18T17:04:08.207868Z"
    },
    "papermill": {
     "duration": 0.020476,
     "end_time": "2023-10-18T17:04:08.210651",
     "exception": false,
     "start_time": "2023-10-18T17:04:08.190175",
     "status": "completed"
    },
    "tags": []
   },
   "outputs": [],
   "source": [
    "def convert3(obj):\n",
    "    L = []\n",
    "    ct = 0\n",
    "    for i in ast.literal_eval(obj):\n",
    "        if ct!=3:\n",
    "            L.append(i['name'])\n",
    "            ct = ct+1\n",
    "        else:\n",
    "            break\n",
    "    return L"
   ]
  },
  {
   "cell_type": "code",
   "execution_count": null,
   "id": "a66050ec",
   "metadata": {
    "execution": {
     "iopub.execute_input": "2023-10-18T17:04:08.238865Z",
     "iopub.status.busy": "2023-10-18T17:04:08.238547Z",
     "iopub.status.idle": "2023-10-18T17:04:11.370514Z",
     "shell.execute_reply": "2023-10-18T17:04:11.369391Z"
    },
    "papermill": {
     "duration": 3.148562,
     "end_time": "2023-10-18T17:04:11.372898",
     "exception": false,
     "start_time": "2023-10-18T17:04:08.224336",
     "status": "completed"
    },
    "tags": []
   },
   "outputs": [],
   "source": [
    "movies['cast'] = movies['cast'].apply(convert3)"
   ]
  },
  {
   "cell_type": "code",
   "execution_count": null,
   "id": "f52b8b94",
   "metadata": {
    "execution": {
     "iopub.execute_input": "2023-10-18T17:04:11.400866Z",
     "iopub.status.busy": "2023-10-18T17:04:11.400495Z",
     "iopub.status.idle": "2023-10-18T17:04:11.407336Z",
     "shell.execute_reply": "2023-10-18T17:04:11.406492Z"
    },
    "papermill": {
     "duration": 0.023581,
     "end_time": "2023-10-18T17:04:11.409659",
     "exception": false,
     "start_time": "2023-10-18T17:04:11.386078",
     "status": "completed"
    },
    "tags": []
   },
   "outputs": [],
   "source": [
    "movies['crew'][0]"
   ]
  },
  {
   "cell_type": "code",
   "execution_count": null,
   "id": "7abc8b27",
   "metadata": {
    "execution": {
     "iopub.execute_input": "2023-10-18T17:04:11.437516Z",
     "iopub.status.busy": "2023-10-18T17:04:11.437171Z",
     "iopub.status.idle": "2023-10-18T17:04:11.443333Z",
     "shell.execute_reply": "2023-10-18T17:04:11.442390Z"
    },
    "papermill": {
     "duration": 0.022457,
     "end_time": "2023-10-18T17:04:11.445295",
     "exception": false,
     "start_time": "2023-10-18T17:04:11.422838",
     "status": "completed"
    },
    "tags": []
   },
   "outputs": [],
   "source": [
    "def fetch_director(obj):\n",
    "    L = []\n",
    "    for i in ast.literal_eval(obj):\n",
    "        if i['job']=='Director':\n",
    "            L.append(i['name'])\n",
    "            break\n",
    "    return L"
   ]
  },
  {
   "cell_type": "code",
   "execution_count": null,
   "id": "e548892b",
   "metadata": {
    "execution": {
     "iopub.execute_input": "2023-10-18T17:04:11.473112Z",
     "iopub.status.busy": "2023-10-18T17:04:11.472812Z",
     "iopub.status.idle": "2023-10-18T17:04:15.036772Z",
     "shell.execute_reply": "2023-10-18T17:04:15.035741Z"
    },
    "papermill": {
     "duration": 3.580195,
     "end_time": "2023-10-18T17:04:15.038969",
     "exception": false,
     "start_time": "2023-10-18T17:04:11.458774",
     "status": "completed"
    },
    "tags": []
   },
   "outputs": [],
   "source": [
    "movies['crew'] = movies['crew'].apply(fetch_director)"
   ]
  },
  {
   "cell_type": "code",
   "execution_count": null,
   "id": "b3c3e4fa",
   "metadata": {
    "execution": {
     "iopub.execute_input": "2023-10-18T17:04:15.068058Z",
     "iopub.status.busy": "2023-10-18T17:04:15.067749Z",
     "iopub.status.idle": "2023-10-18T17:04:15.083873Z",
     "shell.execute_reply": "2023-10-18T17:04:15.082837Z"
    },
    "papermill": {
     "duration": 0.033105,
     "end_time": "2023-10-18T17:04:15.085764",
     "exception": false,
     "start_time": "2023-10-18T17:04:15.052659",
     "status": "completed"
    },
    "tags": []
   },
   "outputs": [],
   "source": [
    "movies.head()"
   ]
  },
  {
   "cell_type": "code",
   "execution_count": null,
   "id": "9a0b9c9a",
   "metadata": {
    "execution": {
     "iopub.execute_input": "2023-10-18T17:04:15.115328Z",
     "iopub.status.busy": "2023-10-18T17:04:15.114738Z",
     "iopub.status.idle": "2023-10-18T17:04:15.151754Z",
     "shell.execute_reply": "2023-10-18T17:04:15.150208Z"
    },
    "papermill": {
     "duration": 0.054586,
     "end_time": "2023-10-18T17:04:15.154203",
     "exception": false,
     "start_time": "2023-10-18T17:04:15.099617",
     "status": "completed"
    },
    "tags": []
   },
   "outputs": [],
   "source": [
    "# Converting overview (string) into List\n",
    "movies['overview'] = movies['overview'].apply(lambda x:x.split())"
   ]
  },
  {
   "cell_type": "code",
   "execution_count": null,
   "id": "fb7f3f47",
   "metadata": {
    "execution": {
     "iopub.execute_input": "2023-10-18T17:04:15.183058Z",
     "iopub.status.busy": "2023-10-18T17:04:15.182554Z",
     "iopub.status.idle": "2023-10-18T17:04:15.296730Z",
     "shell.execute_reply": "2023-10-18T17:04:15.295403Z"
    },
    "papermill": {
     "duration": 0.131224,
     "end_time": "2023-10-18T17:04:15.299081",
     "exception": false,
     "start_time": "2023-10-18T17:04:15.167857",
     "status": "completed"
    },
    "tags": []
   },
   "outputs": [],
   "source": [
    "# Removing spaces between words\n",
    "movies['genres'] = movies['genres'].apply(lambda x: [i.replace(\" \",\"\") for i in x])\n",
    "movies['keywords'] = movies['keywords'].apply(lambda x: [i.replace(\" \",\"\") for i in x])\n",
    "movies['cast'] = movies['cast'].apply(lambda x: [i.replace(\" \",\"\") for i in x])\n",
    "movies['crew'] = movies['crew'].apply(lambda x: [i.replace(\" \",\"\") for i in x])"
   ]
  },
  {
   "cell_type": "code",
   "execution_count": null,
   "id": "0251acf4",
   "metadata": {
    "execution": {
     "iopub.execute_input": "2023-10-18T17:04:15.327816Z",
     "iopub.status.busy": "2023-10-18T17:04:15.327497Z",
     "iopub.status.idle": "2023-10-18T17:04:15.345532Z",
     "shell.execute_reply": "2023-10-18T17:04:15.344522Z"
    },
    "papermill": {
     "duration": 0.034261,
     "end_time": "2023-10-18T17:04:15.347299",
     "exception": false,
     "start_time": "2023-10-18T17:04:15.313038",
     "status": "completed"
    },
    "tags": []
   },
   "outputs": [],
   "source": [
    "movies.head()"
   ]
  },
  {
   "cell_type": "code",
   "execution_count": null,
   "id": "9532b015",
   "metadata": {
    "execution": {
     "iopub.execute_input": "2023-10-18T17:04:15.376462Z",
     "iopub.status.busy": "2023-10-18T17:04:15.376126Z",
     "iopub.status.idle": "2023-10-18T17:04:15.424400Z",
     "shell.execute_reply": "2023-10-18T17:04:15.423434Z"
    },
    "papermill": {
     "duration": 0.064983,
     "end_time": "2023-10-18T17:04:15.426308",
     "exception": false,
     "start_time": "2023-10-18T17:04:15.361325",
     "status": "completed"
    },
    "tags": []
   },
   "outputs": [],
   "source": [
    "movies['tags'] = movies['overview'] + movies['genres'] + movies['keywords'] + movies['cast'] + movies['crew']"
   ]
  },
  {
   "cell_type": "code",
   "execution_count": null,
   "id": "02d2eb3a",
   "metadata": {
    "execution": {
     "iopub.execute_input": "2023-10-18T17:04:15.455873Z",
     "iopub.status.busy": "2023-10-18T17:04:15.455548Z",
     "iopub.status.idle": "2023-10-18T17:04:15.460891Z",
     "shell.execute_reply": "2023-10-18T17:04:15.459787Z"
    },
    "papermill": {
     "duration": 0.022262,
     "end_time": "2023-10-18T17:04:15.462696",
     "exception": false,
     "start_time": "2023-10-18T17:04:15.440434",
     "status": "completed"
    },
    "tags": []
   },
   "outputs": [],
   "source": [
    "new_df = movies[['id','title','tags']]"
   ]
  },
  {
   "cell_type": "code",
   "execution_count": null,
   "id": "a0db5083",
   "metadata": {
    "execution": {
     "iopub.execute_input": "2023-10-18T17:04:15.491715Z",
     "iopub.status.busy": "2023-10-18T17:04:15.491331Z",
     "iopub.status.idle": "2023-10-18T17:04:15.506259Z",
     "shell.execute_reply": "2023-10-18T17:04:15.505419Z"
    },
    "papermill": {
     "duration": 0.031597,
     "end_time": "2023-10-18T17:04:15.508008",
     "exception": false,
     "start_time": "2023-10-18T17:04:15.476411",
     "status": "completed"
    },
    "tags": []
   },
   "outputs": [],
   "source": [
    "new_df"
   ]
  },
  {
   "cell_type": "code",
   "execution_count": null,
   "id": "f2ade856",
   "metadata": {
    "execution": {
     "iopub.execute_input": "2023-10-18T17:04:15.538178Z",
     "iopub.status.busy": "2023-10-18T17:04:15.537110Z",
     "iopub.status.idle": "2023-10-18T17:04:15.541563Z",
     "shell.execute_reply": "2023-10-18T17:04:15.540642Z"
    },
    "papermill": {
     "duration": 0.021189,
     "end_time": "2023-10-18T17:04:15.543403",
     "exception": false,
     "start_time": "2023-10-18T17:04:15.522214",
     "status": "completed"
    },
    "tags": []
   },
   "outputs": [],
   "source": [
    "# Converting this list of tags into a string"
   ]
  },
  {
   "cell_type": "code",
   "execution_count": null,
   "id": "9cee0633",
   "metadata": {
    "execution": {
     "iopub.execute_input": "2023-10-18T17:04:15.572823Z",
     "iopub.status.busy": "2023-10-18T17:04:15.572476Z",
     "iopub.status.idle": "2023-10-18T17:04:15.589747Z",
     "shell.execute_reply": "2023-10-18T17:04:15.588307Z"
    },
    "papermill": {
     "duration": 0.034294,
     "end_time": "2023-10-18T17:04:15.591931",
     "exception": false,
     "start_time": "2023-10-18T17:04:15.557637",
     "status": "completed"
    },
    "tags": []
   },
   "outputs": [],
   "source": [
    "new_df['tags'] = new_df['tags'].apply(lambda x:\" \".join(x))"
   ]
  },
  {
   "cell_type": "code",
   "execution_count": null,
   "id": "8cdf0e26",
   "metadata": {
    "execution": {
     "iopub.execute_input": "2023-10-18T17:04:15.621242Z",
     "iopub.status.busy": "2023-10-18T17:04:15.620911Z",
     "iopub.status.idle": "2023-10-18T17:04:15.627172Z",
     "shell.execute_reply": "2023-10-18T17:04:15.626271Z"
    },
    "papermill": {
     "duration": 0.022894,
     "end_time": "2023-10-18T17:04:15.628995",
     "exception": false,
     "start_time": "2023-10-18T17:04:15.606101",
     "status": "completed"
    },
    "tags": []
   },
   "outputs": [],
   "source": [
    "new_df['tags'][0]"
   ]
  },
  {
   "cell_type": "code",
   "execution_count": null,
   "id": "5cca967a",
   "metadata": {
    "execution": {
     "iopub.execute_input": "2023-10-18T17:04:15.659267Z",
     "iopub.status.busy": "2023-10-18T17:04:15.658703Z",
     "iopub.status.idle": "2023-10-18T17:04:15.662020Z",
     "shell.execute_reply": "2023-10-18T17:04:15.661396Z"
    },
    "papermill": {
     "duration": 0.020443,
     "end_time": "2023-10-18T17:04:15.663672",
     "exception": false,
     "start_time": "2023-10-18T17:04:15.643229",
     "status": "completed"
    },
    "tags": []
   },
   "outputs": [],
   "source": [
    "# Converting all uppercase letters into lowercase"
   ]
  },
  {
   "cell_type": "code",
   "execution_count": null,
   "id": "05cdebcc",
   "metadata": {
    "execution": {
     "iopub.execute_input": "2023-10-18T17:04:15.694058Z",
     "iopub.status.busy": "2023-10-18T17:04:15.693450Z",
     "iopub.status.idle": "2023-10-18T17:04:15.708305Z",
     "shell.execute_reply": "2023-10-18T17:04:15.707616Z"
    },
    "papermill": {
     "duration": 0.032213,
     "end_time": "2023-10-18T17:04:15.710370",
     "exception": false,
     "start_time": "2023-10-18T17:04:15.678157",
     "status": "completed"
    },
    "tags": []
   },
   "outputs": [],
   "source": [
    "new_df['tags'] = new_df['tags'].apply(lambda x:x.lower())"
   ]
  },
  {
   "cell_type": "code",
   "execution_count": null,
   "id": "69d00d0b",
   "metadata": {
    "execution": {
     "iopub.execute_input": "2023-10-18T17:04:15.740386Z",
     "iopub.status.busy": "2023-10-18T17:04:15.739781Z",
     "iopub.status.idle": "2023-10-18T17:04:15.748239Z",
     "shell.execute_reply": "2023-10-18T17:04:15.747617Z"
    },
    "papermill": {
     "duration": 0.025146,
     "end_time": "2023-10-18T17:04:15.749845",
     "exception": false,
     "start_time": "2023-10-18T17:04:15.724699",
     "status": "completed"
    },
    "tags": []
   },
   "outputs": [],
   "source": [
    "new_df.head()"
   ]
  },
  {
   "cell_type": "code",
   "execution_count": null,
   "id": "2465b90e",
   "metadata": {
    "execution": {
     "iopub.execute_input": "2023-10-18T17:04:15.780424Z",
     "iopub.status.busy": "2023-10-18T17:04:15.779451Z",
     "iopub.status.idle": "2023-10-18T17:04:15.784007Z",
     "shell.execute_reply": "2023-10-18T17:04:15.783058Z"
    },
    "papermill": {
     "duration": 0.021709,
     "end_time": "2023-10-18T17:04:15.785877",
     "exception": false,
     "start_time": "2023-10-18T17:04:15.764168",
     "status": "completed"
    },
    "tags": []
   },
   "outputs": [],
   "source": [
    "# Now we will use stemming using nltk library to remove same words like love, loving, loved"
   ]
  },
  {
   "cell_type": "code",
   "execution_count": null,
   "id": "57950967",
   "metadata": {},
   "outputs": [],
   "source": [
    "! pip3 install nltk"
   ]
  },
  {
   "cell_type": "code",
   "execution_count": null,
   "id": "45a63be2",
   "metadata": {
    "execution": {
     "iopub.execute_input": "2023-10-18T17:04:15.815713Z",
     "iopub.status.busy": "2023-10-18T17:04:15.815330Z",
     "iopub.status.idle": "2023-10-18T17:04:17.491861Z",
     "shell.execute_reply": "2023-10-18T17:04:17.490775Z"
    },
    "papermill": {
     "duration": 1.693769,
     "end_time": "2023-10-18T17:04:17.494144",
     "exception": false,
     "start_time": "2023-10-18T17:04:15.800375",
     "status": "completed"
    },
    "tags": []
   },
   "outputs": [],
   "source": [
    "import nltk"
   ]
  },
  {
   "cell_type": "code",
   "execution_count": null,
   "id": "b61becad",
   "metadata": {
    "execution": {
     "iopub.execute_input": "2023-10-18T17:04:17.525704Z",
     "iopub.status.busy": "2023-10-18T17:04:17.524752Z",
     "iopub.status.idle": "2023-10-18T17:04:17.528948Z",
     "shell.execute_reply": "2023-10-18T17:04:17.528128Z"
    },
    "papermill": {
     "duration": 0.021596,
     "end_time": "2023-10-18T17:04:17.530674",
     "exception": false,
     "start_time": "2023-10-18T17:04:17.509078",
     "status": "completed"
    },
    "tags": []
   },
   "outputs": [],
   "source": [
    "from nltk.stem.porter import PorterStemmer\n",
    "ps = PorterStemmer()"
   ]
  },
  {
   "cell_type": "code",
   "execution_count": null,
   "id": "ccef5913",
   "metadata": {
    "execution": {
     "iopub.execute_input": "2023-10-18T17:04:17.561329Z",
     "iopub.status.busy": "2023-10-18T17:04:17.560636Z",
     "iopub.status.idle": "2023-10-18T17:04:17.566726Z",
     "shell.execute_reply": "2023-10-18T17:04:17.565771Z"
    },
    "papermill": {
     "duration": 0.023355,
     "end_time": "2023-10-18T17:04:17.568563",
     "exception": false,
     "start_time": "2023-10-18T17:04:17.545208",
     "status": "completed"
    },
    "tags": []
   },
   "outputs": [],
   "source": [
    "ps.stem('loving')"
   ]
  },
  {
   "cell_type": "code",
   "execution_count": null,
   "id": "304f0658",
   "metadata": {
    "execution": {
     "iopub.execute_input": "2023-10-18T17:04:17.600449Z",
     "iopub.status.busy": "2023-10-18T17:04:17.599551Z",
     "iopub.status.idle": "2023-10-18T17:04:17.603904Z",
     "shell.execute_reply": "2023-10-18T17:04:17.603286Z"
    },
    "papermill": {
     "duration": 0.022103,
     "end_time": "2023-10-18T17:04:17.605559",
     "exception": false,
     "start_time": "2023-10-18T17:04:17.583456",
     "status": "completed"
    },
    "tags": []
   },
   "outputs": [],
   "source": [
    "def stem(text):\n",
    "    y = []\n",
    "    \n",
    "    # Converting string into list\n",
    "    \n",
    "    for i in text.split():\n",
    "        y.append(ps.stem(i))\n",
    "        \n",
    "    # Again converting list into string\n",
    "    return \" \".join(y)"
   ]
  },
  {
   "cell_type": "code",
   "execution_count": null,
   "id": "a738dd8a",
   "metadata": {
    "execution": {
     "iopub.execute_input": "2023-10-18T17:04:17.636329Z",
     "iopub.status.busy": "2023-10-18T17:04:17.635780Z",
     "iopub.status.idle": "2023-10-18T17:04:23.156419Z",
     "shell.execute_reply": "2023-10-18T17:04:23.155472Z"
    },
    "papermill": {
     "duration": 5.5382,
     "end_time": "2023-10-18T17:04:23.158428",
     "exception": false,
     "start_time": "2023-10-18T17:04:17.620228",
     "status": "completed"
    },
    "tags": []
   },
   "outputs": [],
   "source": [
    "new_df['tags'] = new_df['tags'].apply(stem)"
   ]
  },
  {
   "cell_type": "code",
   "execution_count": null,
   "id": "1a6e4b54",
   "metadata": {
    "execution": {
     "iopub.execute_input": "2023-10-18T17:04:23.189047Z",
     "iopub.status.busy": "2023-10-18T17:04:23.188728Z",
     "iopub.status.idle": "2023-10-18T17:04:23.192022Z",
     "shell.execute_reply": "2023-10-18T17:04:23.191419Z"
    },
    "papermill": {
     "duration": 0.020691,
     "end_time": "2023-10-18T17:04:23.193784",
     "exception": false,
     "start_time": "2023-10-18T17:04:23.173093",
     "status": "completed"
    },
    "tags": []
   },
   "outputs": [],
   "source": [
    "# Now we will do vectorization of data in tags column\n",
    "# First we'll combine all the tags and calculate 5000 words whose frequency is maximum"
   ]
  },
  {
   "cell_type": "code",
   "execution_count": null,
   "id": "92b53326",
   "metadata": {},
   "outputs": [],
   "source": []
  },
  {
   "cell_type": "code",
   "execution_count": null,
   "id": "89ff9e17",
   "metadata": {
    "execution": {
     "iopub.execute_input": "2023-10-18T17:04:23.224007Z",
     "iopub.status.busy": "2023-10-18T17:04:23.223474Z",
     "iopub.status.idle": "2023-10-18T17:04:23.227796Z",
     "shell.execute_reply": "2023-10-18T17:04:23.227187Z"
    },
    "papermill": {
     "duration": 0.021411,
     "end_time": "2023-10-18T17:04:23.229485",
     "exception": false,
     "start_time": "2023-10-18T17:04:23.208074",
     "status": "completed"
    },
    "tags": []
   },
   "outputs": [],
   "source": [
    "from sklearn.feature_extraction.text import CountVectorizer\n",
    "cv = CountVectorizer(max_features=5000, stop_words='english')"
   ]
  },
  {
   "cell_type": "code",
   "execution_count": null,
   "id": "5c8481e5",
   "metadata": {
    "execution": {
     "iopub.execute_input": "2023-10-18T17:04:23.260395Z",
     "iopub.status.busy": "2023-10-18T17:04:23.259782Z",
     "iopub.status.idle": "2023-10-18T17:04:23.779662Z",
     "shell.execute_reply": "2023-10-18T17:04:23.778702Z"
    },
    "papermill": {
     "duration": 0.538262,
     "end_time": "2023-10-18T17:04:23.782452",
     "exception": false,
     "start_time": "2023-10-18T17:04:23.244190",
     "status": "completed"
    },
    "tags": []
   },
   "outputs": [],
   "source": [
    "vectors = cv.fit_transform(new_df['tags']).toarray()"
   ]
  },
  {
   "cell_type": "code",
   "execution_count": null,
   "id": "d51bf7b4",
   "metadata": {
    "execution": {
     "iopub.execute_input": "2023-10-18T17:04:23.814014Z",
     "iopub.status.busy": "2023-10-18T17:04:23.813689Z",
     "iopub.status.idle": "2023-10-18T17:04:23.819317Z",
     "shell.execute_reply": "2023-10-18T17:04:23.818289Z"
    },
    "papermill": {
     "duration": 0.023446,
     "end_time": "2023-10-18T17:04:23.821193",
     "exception": false,
     "start_time": "2023-10-18T17:04:23.797747",
     "status": "completed"
    },
    "tags": []
   },
   "outputs": [],
   "source": [
    "vectors.shape"
   ]
  },
  {
   "cell_type": "code",
   "execution_count": null,
   "id": "8323585a",
   "metadata": {
    "execution": {
     "iopub.execute_input": "2023-10-18T17:04:23.851811Z",
     "iopub.status.busy": "2023-10-18T17:04:23.851454Z",
     "iopub.status.idle": "2023-10-18T17:04:23.857747Z",
     "shell.execute_reply": "2023-10-18T17:04:23.856702Z"
    },
    "papermill": {
     "duration": 0.02361,
     "end_time": "2023-10-18T17:04:23.859412",
     "exception": false,
     "start_time": "2023-10-18T17:04:23.835802",
     "status": "completed"
    },
    "tags": []
   },
   "outputs": [],
   "source": [
    "vectors[0] # Vector of movie Avatar"
   ]
  },
  {
   "cell_type": "code",
   "execution_count": null,
   "id": "92e7f40a",
   "metadata": {
    "execution": {
     "iopub.execute_input": "2023-10-18T17:04:23.890800Z",
     "iopub.status.busy": "2023-10-18T17:04:23.889829Z",
     "iopub.status.idle": "2023-10-18T17:04:23.899809Z",
     "shell.execute_reply": "2023-10-18T17:04:23.898837Z"
    },
    "papermill": {
     "duration": 0.027763,
     "end_time": "2023-10-18T17:04:23.901853",
     "exception": false,
     "start_time": "2023-10-18T17:04:23.874090",
     "status": "completed"
    },
    "tags": []
   },
   "outputs": [],
   "source": [
    "cv.get_feature_names_out()"
   ]
  },
  {
   "cell_type": "code",
   "execution_count": null,
   "id": "dbcf6c46",
   "metadata": {
    "execution": {
     "iopub.execute_input": "2023-10-18T17:04:23.934241Z",
     "iopub.status.busy": "2023-10-18T17:04:23.933689Z",
     "iopub.status.idle": "2023-10-18T17:04:23.940924Z",
     "shell.execute_reply": "2023-10-18T17:04:23.940124Z"
    },
    "papermill": {
     "duration": 0.025647,
     "end_time": "2023-10-18T17:04:23.942702",
     "exception": false,
     "start_time": "2023-10-18T17:04:23.917055",
     "status": "completed"
    },
    "tags": []
   },
   "outputs": [],
   "source": [
    "stem('In the 22nd century, a paraplegic Marine is dispatched to the moon Pandora on a unique mission, but becomes torn between following orders and protecting an alien civilization. Action Adventure Fantasy ScienceFiction cultureclash future spacewar spacecolony society spacetravel futuristic romance space alien tribe alienplanet cgi marine soldier battle loveaffair antiwar powerrelations mindandsoul 3d SamWorthington ZoeSaldana SigourneyWeaver JamesCameron')"
   ]
  },
  {
   "cell_type": "code",
   "execution_count": null,
   "id": "9f391bcb",
   "metadata": {
    "execution": {
     "iopub.execute_input": "2023-10-18T17:04:23.974374Z",
     "iopub.status.busy": "2023-10-18T17:04:23.973803Z",
     "iopub.status.idle": "2023-10-18T17:04:23.977881Z",
     "shell.execute_reply": "2023-10-18T17:04:23.977192Z"
    },
    "papermill": {
     "duration": 0.021974,
     "end_time": "2023-10-18T17:04:23.979629",
     "exception": false,
     "start_time": "2023-10-18T17:04:23.957655",
     "status": "completed"
    },
    "tags": []
   },
   "outputs": [],
   "source": [
    "# Now we have 4806 vectors (one for each movie)\n",
    "# Now we will calculate distance between two vectors to find similarity between movies\n",
    "# We will calculate cosine distance (angle b/w vectors) rather than euclidean distance\n",
    "# As the dimension of data increases, the performance of euclidean distance decreases"
   ]
  },
  {
   "cell_type": "code",
   "execution_count": 17,
   "id": "011d90a5",
   "metadata": {
    "execution": {
     "iopub.execute_input": "2023-10-18T17:04:24.010750Z",
     "iopub.status.busy": "2023-10-18T17:04:24.010165Z",
     "iopub.status.idle": "2023-10-18T17:04:24.014287Z",
     "shell.execute_reply": "2023-10-18T17:04:24.013707Z"
    },
    "papermill": {
     "duration": 0.021672,
     "end_time": "2023-10-18T17:04:24.016094",
     "exception": false,
     "start_time": "2023-10-18T17:04:23.994422",
     "status": "completed"
    },
    "tags": []
   },
   "outputs": [
    {
     "ename": "ModuleNotFoundError",
     "evalue": "No module named 'sklearn'",
     "output_type": "error",
     "traceback": [
      "\u001b[1;31m---------------------------------------------------------------------------\u001b[0m",
      "\u001b[1;31mModuleNotFoundError\u001b[0m                       Traceback (most recent call last)",
      "Cell \u001b[1;32mIn[17], line 1\u001b[0m\n\u001b[1;32m----> 1\u001b[0m \u001b[38;5;28;01mfrom\u001b[39;00m \u001b[38;5;21;01msklearn\u001b[39;00m\u001b[38;5;21;01m.\u001b[39;00m\u001b[38;5;21;01mmetrics\u001b[39;00m\u001b[38;5;21;01m.\u001b[39;00m\u001b[38;5;21;01mpairwise\u001b[39;00m \u001b[38;5;28;01mimport\u001b[39;00m cosine_similarity\n",
      "\u001b[1;31mModuleNotFoundError\u001b[0m: No module named 'sklearn'"
     ]
    }
   ],
   "source": [
    "from sklearn.metrics.pairwise import cosine_similarity"
   ]
  },
  {
   "cell_type": "code",
   "execution_count": 16,
   "id": "c6de6263",
   "metadata": {
    "execution": {
     "iopub.execute_input": "2023-10-18T17:04:24.047193Z",
     "iopub.status.busy": "2023-10-18T17:04:24.046782Z",
     "iopub.status.idle": "2023-10-18T17:04:26.582852Z",
     "shell.execute_reply": "2023-10-18T17:04:26.581922Z"
    },
    "papermill": {
     "duration": 2.554121,
     "end_time": "2023-10-18T17:04:26.584789",
     "exception": false,
     "start_time": "2023-10-18T17:04:24.030668",
     "status": "completed"
    },
    "tags": []
   },
   "outputs": [
    {
     "ename": "NameError",
     "evalue": "name 'cosine_similarity' is not defined",
     "output_type": "error",
     "traceback": [
      "\u001b[1;31m---------------------------------------------------------------------------\u001b[0m",
      "\u001b[1;31mNameError\u001b[0m                                 Traceback (most recent call last)",
      "Cell \u001b[1;32mIn[16], line 1\u001b[0m\n\u001b[1;32m----> 1\u001b[0m \u001b[43mcosine_similarity\u001b[49m(vectors)\u001b[38;5;241m.\u001b[39mshape\n",
      "\u001b[1;31mNameError\u001b[0m: name 'cosine_similarity' is not defined"
     ]
    }
   ],
   "source": [
    "cosine_similarity(vectors).shape"
   ]
  },
  {
   "cell_type": "code",
   "execution_count": null,
   "id": "a8fd5662",
   "metadata": {
    "execution": {
     "iopub.execute_input": "2023-10-18T17:04:26.617165Z",
     "iopub.status.busy": "2023-10-18T17:04:26.616784Z",
     "iopub.status.idle": "2023-10-18T17:04:29.043889Z",
     "shell.execute_reply": "2023-10-18T17:04:29.042461Z"
    },
    "papermill": {
     "duration": 2.44772,
     "end_time": "2023-10-18T17:04:29.048416",
     "exception": false,
     "start_time": "2023-10-18T17:04:26.600696",
     "status": "completed"
    },
    "tags": []
   },
   "outputs": [],
   "source": [
    "similarity = cosine_similarity(vectors)"
   ]
  },
  {
   "cell_type": "code",
   "execution_count": null,
   "id": "6bef5938",
   "metadata": {},
   "outputs": [],
   "source": [
    "\n",
    "print(similarity)"
   ]
  },
  {
   "cell_type": "code",
   "execution_count": null,
   "id": "01f5f11e",
   "metadata": {},
   "outputs": [],
   "source": [
    "lst=[1,2,13,4,5,6]\n",
    "x=sorted(lst,reverse=True)\n",
    "print(x)"
   ]
  },
  {
   "cell_type": "code",
   "execution_count": null,
   "id": "8ee8219a",
   "metadata": {},
   "outputs": [],
   "source": [
    "movie_index = new_df[new_df['title'] == 'Skyfall'].index[0]\n",
    "#print(movie_index)\n",
    "distances = similarity[movie_index]\n",
    "print(distances)\n",
    "print(list(enumerate(distances)))\n",
    "\n",
    "movies_list = sorted(list(enumerate(distances)),reverse=True,key = lambda x:x[1])[1:6]\n",
    "\n",
    "#print(movies_list)\n",
    "\n",
    "#for i in movies_list:\n",
    "#       print(new_df.iloc[i[0]].title)"
   ]
  },
  {
   "cell_type": "code",
   "execution_count": null,
   "id": "9321084e",
   "metadata": {
    "execution": {
     "iopub.execute_input": "2023-10-18T17:04:29.093514Z",
     "iopub.status.busy": "2023-10-18T17:04:29.093160Z",
     "iopub.status.idle": "2023-10-18T17:04:29.098561Z",
     "shell.execute_reply": "2023-10-18T17:04:29.097454Z"
    },
    "papermill": {
     "duration": 0.025597,
     "end_time": "2023-10-18T17:04:29.100467",
     "exception": false,
     "start_time": "2023-10-18T17:04:29.074870",
     "status": "completed"
    },
    "tags": []
   },
   "outputs": [],
   "source": [
    "def recommend(movie):\n",
    "    movie_index = new_df[new_df['title'] == movie].index[0]\n",
    "    distances = similarity[movie_index]\n",
    "    movies_list = sorted(list(enumerate(distances)),reverse=True,key=lambda x:x[1])[1:6]\n",
    "    \n",
    "    for i in movies_list:\n",
    "        print(new_df.iloc[i[0]].title)"
   ]
  },
  {
   "cell_type": "code",
   "execution_count": null,
   "id": "a8e60de3",
   "metadata": {
    "execution": {
     "iopub.execute_input": "2023-10-18T17:04:29.132817Z",
     "iopub.status.busy": "2023-10-18T17:04:29.132151Z",
     "iopub.status.idle": "2023-10-18T17:04:29.140626Z",
     "shell.execute_reply": "2023-10-18T17:04:29.139635Z"
    },
    "papermill": {
     "duration": 0.026623,
     "end_time": "2023-10-18T17:04:29.142470",
     "exception": false,
     "start_time": "2023-10-18T17:04:29.115847",
     "status": "completed"
    },
    "tags": []
   },
   "outputs": [],
   "source": [
    "new_df['title'] == 'Avatar'"
   ]
  },
  {
   "cell_type": "code",
   "execution_count": null,
   "id": "eab5df09",
   "metadata": {
    "execution": {
     "iopub.execute_input": "2023-10-18T17:04:29.174717Z",
     "iopub.status.busy": "2023-10-18T17:04:29.174072Z",
     "iopub.status.idle": "2023-10-18T17:04:29.183862Z",
     "shell.execute_reply": "2023-10-18T17:04:29.183092Z"
    },
    "papermill": {
     "duration": 0.027624,
     "end_time": "2023-10-18T17:04:29.185610",
     "exception": false,
     "start_time": "2023-10-18T17:04:29.157986",
     "status": "completed"
    },
    "tags": []
   },
   "outputs": [],
   "source": [
    "new_df[new_df['title'] == 'Avatar']"
   ]
  },
  {
   "cell_type": "code",
   "execution_count": null,
   "id": "f26e716f",
   "metadata": {
    "execution": {
     "iopub.execute_input": "2023-10-18T17:04:29.301706Z",
     "iopub.status.busy": "2023-10-18T17:04:29.301119Z",
     "iopub.status.idle": "2023-10-18T17:04:29.310702Z",
     "shell.execute_reply": "2023-10-18T17:04:29.309483Z"
    },
    "papermill": {
     "duration": 0.027426,
     "end_time": "2023-10-18T17:04:29.312511",
     "exception": false,
     "start_time": "2023-10-18T17:04:29.285085",
     "status": "completed"
    },
    "tags": []
   },
   "outputs": [],
   "source": [
    "recommend('Avatar')"
   ]
  },
  {
   "cell_type": "code",
   "execution_count": null,
   "id": "4baf0925",
   "metadata": {
    "execution": {
     "iopub.execute_input": "2023-10-18T17:04:29.345281Z",
     "iopub.status.busy": "2023-10-18T17:04:29.344679Z",
     "iopub.status.idle": "2023-10-18T17:04:29.354520Z",
     "shell.execute_reply": "2023-10-18T17:04:29.353267Z"
    },
    "papermill": {
     "duration": 0.028349,
     "end_time": "2023-10-18T17:04:29.356492",
     "exception": false,
     "start_time": "2023-10-18T17:04:29.328143",
     "status": "completed"
    },
    "tags": []
   },
   "outputs": [],
   "source": [
    "recommend('Batman')"
   ]
  },
  {
   "cell_type": "code",
   "execution_count": null,
   "id": "008804cb",
   "metadata": {
    "execution": {
     "iopub.execute_input": "2023-10-18T17:04:29.389883Z",
     "iopub.status.busy": "2023-10-18T17:04:29.388829Z",
     "iopub.status.idle": "2023-10-18T17:04:29.398501Z",
     "shell.execute_reply": "2023-10-18T17:04:29.397581Z"
    },
    "papermill": {
     "duration": 0.02785,
     "end_time": "2023-10-18T17:04:29.400310",
     "exception": false,
     "start_time": "2023-10-18T17:04:29.372460",
     "status": "completed"
    },
    "tags": []
   },
   "outputs": [],
   "source": [
    "recommend('Spectre')"
   ]
  },
  {
   "cell_type": "code",
   "execution_count": null,
   "id": "c4eae16f",
   "metadata": {
    "execution": {
     "iopub.execute_input": "2023-10-18T17:04:29.433695Z",
     "iopub.status.busy": "2023-10-18T17:04:29.432983Z",
     "iopub.status.idle": "2023-10-18T17:04:29.437092Z",
     "shell.execute_reply": "2023-10-18T17:04:29.436169Z"
    },
    "papermill": {
     "duration": 0.02264,
     "end_time": "2023-10-18T17:04:29.438730",
     "exception": false,
     "start_time": "2023-10-18T17:04:29.416090",
     "status": "completed"
    },
    "tags": []
   },
   "outputs": [],
   "source": [
    "# Here's my recommender system is ready"
   ]
  }
 ],
 "metadata": {
  "kernelspec": {
   "display_name": "Python 3",
   "language": "python",
   "name": "python3"
  },
  "language_info": {
   "codemirror_mode": {
    "name": "ipython",
    "version": 3
   },
   "file_extension": ".py",
   "mimetype": "text/x-python",
   "name": "python",
   "nbconvert_exporter": "python",
   "pygments_lexer": "ipython3",
   "version": "3.11.4"
  },
  "papermill": {
   "default_parameters": {},
   "duration": 27.736423,
   "end_time": "2023-10-18T17:04:30.075460",
   "environment_variables": {},
   "exception": null,
   "input_path": "__notebook__.ipynb",
   "output_path": "__notebook__.ipynb",
   "parameters": {},
   "start_time": "2023-10-18T17:04:02.339037",
   "version": "2.4.0"
  }
 },
 "nbformat": 4,
 "nbformat_minor": 5
}
